{
 "cells": [
  {
   "cell_type": "markdown",
   "metadata": {},
   "source": [
    "# SolidWorks MCP Server Tutorial\n",
    "\n",
    "This notebook demonstrates how to interact with the SolidWorks MCP server for CAD automation."
   ]
  },
  {
   "cell_type": "code",
   "execution_count": null,
   "metadata": {},
   "outputs": [],
   "source": [
    "# Import required libraries\n",
    "import asyncio\n",
    "import json\n",
    "from pathlib import Path\n",
    "\n",
    "# Import MCP components\n",
    "from src.tools.solidworks_tools import SolidWorksTools\n",
    "from src.context_builder.knowledge_base import SolidWorksKnowledgeBase\n",
    "from src.solidworks_adapters.factory import AdapterFactory"
   ]
  },
  {
   "cell_type": "markdown",
   "metadata": {},
   "source": [
    "## 1. Initialize Components"
   ]
  },
  {
   "cell_type": "code",
   "execution_count": null,
   "metadata": {},
   "outputs": [],
   "source": [
    "# Initialize knowledge base\n",
    "kb = SolidWorksKnowledgeBase()\n",
    "\n",
    "# Initialize tools\n",
    "tools = SolidWorksTools(knowledge_base=kb)\n",
    "\n",
    "# Initialize adapter factory\n",
    "factory = AdapterFactory()\n",
    "\n",
    "# Get adapter for current SolidWorks version\n",
    "adapter = factory.get_best_adapter()\n",
    "\n",
    "print(f\"Using adapter for SolidWorks {adapter.version}\")"
   ]
  },
  {
   "cell_type": "markdown",
   "metadata": {},
   "source": [
    "## 2. Connect to SolidWorks"
   ]
  },
  {
   "cell_type": "code",
   "execution_count": null,
   "metadata": {},
   "outputs": [],
   "source": [
    "# Connect to SolidWorks\n",
    "connected = await adapter.connect()\n",
    "print(f\"Connected to SolidWorks: {connected}\")"
   ]
  },
  {
   "cell_type": "markdown",
   "metadata": {},
   "source": [
    "## 3. Open a Model"
   ]
  },
  {
   "cell_type": "code",
   "execution_count": null,
   "metadata": {},
   "outputs": [],
   "source": [
    "# Open a part file\n",
    "result = await tools.execute(\n",
    "    \"open_model\",\n",
    "    {\"file_path\": \"C:/SolidWorks/Models/example.sldprt\"},\n",
    "    adapter\n",
    ")\n",
    "\n",
    "print(json.dumps(result, indent=2))"
   ]
  },
  {
   "cell_type": "markdown",
   "metadata": {},
   "source": [
    "## 4. Analyze Model Features"
   ]
  },
  {
   "cell_type": "code",
   "execution_count": null,
   "metadata": {},
   "outputs": [],
   "source": [
    "# Get all features\n",
    "features_result = await tools.execute(\n",
    "    \"get_features\",\n",
    "    {},\n",
    "    adapter\n",
    ")\n",
    "\n",
    "# Display feature summary\n",
    "if features_result[\"success\"]:\n",
    "    features = features_result[\"features\"]\n",
    "    print(f\"Total features: {len(features)}\")\n",
    "    print(\"\\nFeature types:\")\n",
    "    for ftype, count in features_result[\"summary\"][\"feature_types\"].items():\n",
    "        print(f\"  - {ftype}: {count}\")"
   ]
  },
  {
   "cell_type": "markdown",
   "metadata": {},
   "source": [
    "## 5. Modify Dimensions"
   ]
  },
  {
   "cell_type": "code",
   "execution_count": null,
   "metadata": {},
   "outputs": [],
   "source": [
    "# Modify a dimension\n",
    "dim_result = await tools.execute(\n",
    "    \"modify_dimension\",\n",
    "    {\n",
    "        \"feature_name\": \"Boss-Extrude1\",\n",
    "        \"dimension_name\": \"D1@Boss-Extrude1\",\n",
    "        \"value\": 25.0\n",
    "    },\n",
    "    adapter\n",
    ")\n",
    "\n",
    "if dim_result[\"success\"]:\n",
    "    print(f\"Dimension changed from {dim_result.get('original_value')} to {dim_result['new_value']}\")"
   ]
  },
  {
   "cell_type": "markdown",
   "metadata": {},
   "source": [
    "## 6. Knowledge Base Queries"
   ]
  },
  {
   "cell_type": "code",
   "execution_count": null,
   "metadata": {},
   "outputs": [],
   "source": [
    "# Find similar operations\n",
    "similar_ops = await kb.find_similar_operations(\n",
    "    \"modify dimension extrusion\",\n",
    "    n_results=3\n",
    ")\n",
    "\n",
    "print(\"Similar operations found:\")\n",
    "for op in similar_ops:\n",
    "    print(f\"- {op['operation']}: {op.get('success', 'Unknown')}\")"
   ]
  },
  {
   "cell_type": "markdown",
   "metadata": {},
   "source": [
    "## 7. Export Model"
   ]
  },
  {
   "cell_type": "code",
   "execution_count": null,
   "metadata": {},
   "outputs": [],
   "source": [
    "# Export to STEP format\n",
    "export_result = await tools.execute(\n",
    "    \"export_model\",\n",
    "    {\n",
    "        \"output_path\": \"C:/Exports/example.step\",\n",
    "        \"format\": \"STEP\"\n",
    "    },\n",
    "    adapter\n",
    ")\n",
    "\n",
    "if export_result[\"success\"]:\n",
    "    print(f\"Exported to: {export_result['output_path']}\")\n",
    "    print(f\"File size: {export_result.get('file_size_mb', 0)} MB\")"
   ]
  },
  {
   "cell_type": "markdown",
   "metadata": {},
   "source": [
    "## 8. Analyze Operation History"
   ]
  },
  {
   "cell_type": "code",
   "execution_count": null,
   "metadata": {},
   "outputs": [],
   "source": [
    "# Get operation statistics\n",
    "stats = await kb.analyze_operation_patterns()\n",
    "\n",
    "print(f\"Total operations: {stats['total_operations']}\")\n",
    "print(f\"Success rate: {stats['success_rate']:.1%}\")\n",
    "print(\"\\nMost common operations:\")\n",
    "for op_type, count in list(stats['operation_types'].items())[:5]:\n",
    "    print(f\"  - {op_type}: {count}\")"
   ]
  },
  {
   "cell_type": "markdown",
   "metadata": {},
   "source": [
    "## 9. Cleanup"
   ]
  },
  {
   "cell_type": "code",
   "execution_count": null,
   "metadata": {},
   "outputs": [],
   "source": [
    "# Disconnect from SolidWorks\n",
    "await adapter.disconnect()\n",
    "print(\"Disconnected from SolidWorks\")"
   ]
  }
 ],
 "metadata": {
  "kernelspec": {
   "display_name": "Python 3",
   "language": "python",
   "name": "python3"
  },
  "language_info": {
   "codemirror_mode": {
    "name": "ipython",
    "version": 3
   },
   "file_extension": ".py",
   "mimetype": "text/x-python",
   "name": "python",
   "nbconvert_exporter": "python",
   "pygments_lexer": "ipython3",
   "version": "3.11.0"
  }
 },
 "nbformat": 4,
 "nbformat_minor": 4
}